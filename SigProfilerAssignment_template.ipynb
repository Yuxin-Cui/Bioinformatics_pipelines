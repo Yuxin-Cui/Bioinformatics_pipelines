{
 "cells": [
  {
   "cell_type": "code",
   "execution_count": null,
   "id": "6fd6e83a-e53b-4650-87c0-c03f91b754c8",
   "metadata": {},
   "outputs": [],
   "source": [
    "# install the correct version of the reference\n",
    "from SigProfilerMatrixGenerator import install as genInstall\n",
    "genInstall.install('GRCh37')"
   ]
  },
  {
   "cell_type": "code",
   "execution_count": 1,
   "id": "7534b44c-514b-400d-af9d-a67d5ebee6fc",
   "metadata": {},
   "outputs": [
    {
     "name": "stdout",
     "output_type": "stream",
     "text": [
      "Starting matrix generation for SNVs and DINUCs...Completed! Elapsed time: 4.82 seconds.\n",
      "Matrices generated for 2 samples with 0 errors. Total of 73363 SNVs, 121 DINUCs, and 0 INDELs were successfully analyzed.\n",
      "Assigning COSMIC sigs or Signature Database ...... \n",
      "|████████████████████████████████████████| 2/2 [100%] in 1.6s (1.25/s) \n",
      "\n",
      "\n",
      " \n",
      "Your Job Is Successfully Completed! Thank You For Using SigProfilerAssignment.\n",
      " \n"
     ]
    }
   ],
   "source": [
    "from SigProfilerAssignment import Analyzer as Analyze\n",
    "\n",
    "Analyze.cosmic_fit(samples=\"input/BRCA_vcf\", \n",
    "                   output=\"output/sigProfiler\",\n",
    "                   input_type=\"vcf\",\n",
    "                   context_type=\"96\",\n",
    "                   genome_build=\"GRCh37\")"
   ]
  },
  {
   "cell_type": "code",
   "execution_count": null,
   "id": "571bd8cf-28fd-473f-b8a7-cf77028214bf",
   "metadata": {},
   "outputs": [],
   "source": []
  }
 ],
 "metadata": {
  "kernelspec": {
   "display_name": "variant-calling",
   "language": "python",
   "name": "variant-calling"
  },
  "language_info": {
   "codemirror_mode": {
    "name": "ipython",
    "version": 3
   },
   "file_extension": ".py",
   "mimetype": "text/x-python",
   "name": "python",
   "nbconvert_exporter": "python",
   "pygments_lexer": "ipython3",
   "version": "3.11.5"
  }
 },
 "nbformat": 4,
 "nbformat_minor": 5
}
